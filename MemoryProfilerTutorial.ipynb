{
 "cells": [
  {
   "cell_type": "code",
   "execution_count": 27,
   "metadata": {},
   "outputs": [],
   "source": [
    "import pandas as pd\n",
    "import numpy as np\n",
    "\n",
    "from utils import camelcase_to_underscore"
   ]
  },
  {
   "cell_type": "code",
   "execution_count": 1,
   "metadata": {},
   "outputs": [],
   "source": [
    "%load_ext memory_profiler"
   ]
  },
  {
   "cell_type": "code",
   "execution_count": 28,
   "metadata": {},
   "outputs": [
    {
     "name": "stdout",
     "output_type": "stream",
     "text": [
      "peak memory: 119.84 MiB, increment: 2.92 MiB\n"
     ]
    }
   ],
   "source": [
    "%%memit \n",
    "df = pd.read_csv('input/train_V2.csv', nrows=10000)\n",
    "df.columns = [camelcase_to_underscore(col) for col in df.columns]\n",
    "df.drop(df[df['win_place_perc'].isnull()].index, inplace=True)"
   ]
  },
  {
   "cell_type": "code",
   "execution_count": 29,
   "metadata": {},
   "outputs": [
    {
     "name": "stdout",
     "output_type": "stream",
     "text": [
      "peak memory: 172.86 MiB, increment: 55.82 MiB\n"
     ]
    }
   ],
   "source": [
    "%%memit\n",
    "import pandas as pd\n",
    "import numpy as np\n",
    "\n",
    "from utils import camelcase_to_underscore\n",
    "from pipelines import Pipeline\n",
    "\n",
    "\n",
    "df = pd.read_csv('input/train_V2.csv', nrows=10000)\n",
    "df.columns = [camelcase_to_underscore(col) for col in df.columns]\n",
    "df.drop(df[df['win_place_perc'].isnull()].index, inplace=True)\n",
    "\n",
    "id_features = ['id', 'group_id', 'match_id']\n",
    "categorical_features = ['match_type', ]\n",
    "target_feature = 'win_place_perc'\n",
    "base_features = [col for col in df.columns if col not in id_features + categorical_features + [target_feature]] \n",
    "pipeline = Pipeline(\n",
    "    id_columns=id_features, \n",
    "    numerical_columns=base_features,\n",
    "    categorical_columns=categorical_features,\n",
    "    target_column=target_feature,\n",
    ")\n",
    "pipeline.fit_transform(df)"
   ]
  },
  {
   "cell_type": "code",
   "execution_count": 2,
   "metadata": {},
   "outputs": [
    {
     "name": "stdout",
     "output_type": "stream",
     "text": [
      "\n"
     ]
    },
    {
     "data": {
      "text/plain": [
       "Filename: /Users/dmitrymikhailovich_/cnt/pubg-kaggle/mem_test.py\n",
       "\n",
       "Line #    Mem usage    Increment   Line Contents\n",
       "================================================\n",
       "     8    107.4 MiB    107.4 MiB   def asdf():\n",
       "     9    118.8 MiB     11.4 MiB       df = pd.read_csv('input/train_V2.csv', nrows=10000)\n",
       "    10    118.8 MiB      0.0 MiB       df.columns = [camelcase_to_underscore(col) for col in df.columns]\n",
       "    11    121.3 MiB      2.5 MiB       df.drop(df[df['win_place_perc'].isnull()].index, inplace=True)\n",
       "    12                             \n",
       "    13    121.3 MiB      0.0 MiB       id_features = ['id', 'group_id', 'match_id']\n",
       "    14    121.3 MiB      0.0 MiB       categorical_features = ['match_type', ]\n",
       "    15    121.3 MiB      0.0 MiB       target_feature = 'win_place_perc'\n",
       "    16    121.3 MiB      0.0 MiB       base_features = [col for col in df.columns if col not in id_features + categorical_features + [target_feature]] \n",
       "    17    121.3 MiB      0.0 MiB       pipeline = Pipeline(\n",
       "    18    121.3 MiB      0.0 MiB           id_columns=id_features, \n",
       "    19    121.3 MiB      0.0 MiB           numerical_columns=base_features,\n",
       "    20    121.3 MiB      0.0 MiB           categorical_columns=categorical_features,\n",
       "    21    121.3 MiB      0.0 MiB           target_column=target_feature,\n",
       "    22                                 )\n",
       "    23    171.8 MiB     50.5 MiB       return pipeline.fit_transform(df)"
      ]
     },
     "metadata": {},
     "output_type": "display_data"
    }
   ],
   "source": [
    "from mem_test import asdf\n",
    "%mprun -f asdf asdf()"
   ]
  }
 ],
 "metadata": {
  "kernelspec": {
   "display_name": "Python 3",
   "language": "python",
   "name": "python3"
  },
  "language_info": {
   "codemirror_mode": {
    "name": "ipython",
    "version": 3
   },
   "file_extension": ".py",
   "mimetype": "text/x-python",
   "name": "python",
   "nbconvert_exporter": "python",
   "pygments_lexer": "ipython3",
   "version": "3.6.3"
  }
 },
 "nbformat": 4,
 "nbformat_minor": 2
}
