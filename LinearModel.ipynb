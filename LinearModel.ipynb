{
 "cells": [
  {
   "cell_type": "code",
   "execution_count": null,
   "metadata": {
    "_cell_guid": "b1076dfc-b9ad-4769-8c92-a6c4dae69d19",
    "_uuid": "8f2839f25d086af736a60e9eeb907d3b93b6e0e5"
   },
   "outputs": [],
   "source": [
    "# This Python 3 environment comes with many helpful analytics libraries installed\n",
    "# It is defined by the kaggle/python docker image: https://github.com/kaggle/docker-python\n",
    "# For example, here's several helpful packages to load in \n",
    "\n",
    "import numpy as np # linear algebra\n",
    "import pandas as pd # data processing, CSV file I/O (e.g. pd.read_csv)\n",
    "\n",
    "# Input data files are available in the \"../input/\" directory.\n",
    "# For example, running this (by clicking run or pressing Shift+Enter) will list the files in the input directory\n",
    "\n",
    "import os\n",
    "print(os.listdir(\"../input\"))\n",
    "\n",
    "# Any results you write to the current directory are saved as output."
   ]
  },
  {
   "cell_type": "markdown",
   "metadata": {
    "_uuid": "e1c4585fe37c9dafa155fbf0a0cd3d3b25aa8bb4"
   },
   "source": [
    "Суммарный вес в формате pd.DataFrame ~4GB"
   ]
  },
  {
   "cell_type": "code",
   "execution_count": null,
   "metadata": {
    "_uuid": "b76a5748ae5a94dbe53e80b2f9e312559a9934c3"
   },
   "outputs": [],
   "source": [
    "df_train = pd.read_csv('../input/train_V2.csv')\n",
    "df_test = pd.read_csv('../input/test_V2.csv')\n",
    "df_sub = pd.read_csv('../input/sample_submission_V2.csv')"
   ]
  },
  {
   "cell_type": "code",
   "execution_count": null,
   "metadata": {
    "_uuid": "b047d6b6dda45d4b97d2540a67c13aed7bcdb024"
   },
   "outputs": [],
   "source": [
    "df_train.head()"
   ]
  },
  {
   "cell_type": "code",
   "execution_count": null,
   "metadata": {
    "_uuid": "1c4a878884a12660dddb0a31035d7a4aa153d23f"
   },
   "outputs": [],
   "source": [
    "df_train.shape"
   ]
  },
  {
   "cell_type": "code",
   "execution_count": null,
   "metadata": {
    "_uuid": "d321f977d8eadd432d47ec24abff9ac33a09e4f7"
   },
   "outputs": [],
   "source": [
    "id_features = ['Id', 'groupId', 'matchId']\n",
    "categorical_features = ['matchType', ]\n",
    "target_feature = 'winPlacePerc'"
   ]
  },
  {
   "cell_type": "code",
   "execution_count": null,
   "metadata": {
    "_uuid": "dbdb967009d48d2c67d28a12e936e80037baf4d1"
   },
   "outputs": [],
   "source": [
    "x = df_train.drop(id_features + categorical_features + [target_feature], axis=1)\n",
    "y = df_train[target_feature]"
   ]
  },
  {
   "cell_type": "code",
   "execution_count": null,
   "metadata": {
    "_uuid": "4410204974eb85b8832dda9969143a90b0585f34"
   },
   "outputs": [],
   "source": [
    "y[y.isnull()]"
   ]
  },
  {
   "cell_type": "code",
   "execution_count": null,
   "metadata": {
    "_uuid": "5039abeff894bb0412b844c3ce002713a3756215"
   },
   "outputs": [],
   "source": [
    "from sklearn.model_selection import train_test_split\n",
    "\n",
    "x_train, x_valid, y_train, y_valid = train_test_split(x, y, test_size=.33)"
   ]
  },
  {
   "cell_type": "code",
   "execution_count": null,
   "metadata": {
    "_uuid": "cb65585489371a7bd26961603d09541626f96738"
   },
   "outputs": [],
   "source": [
    "x_train.fillna(0, inplace=True)\n",
    "y_train.fillna(0, inplace=True)\n",
    "\n",
    "x_valid.fillna(0, inplace=True)\n",
    "y_valid.fillna(0, inplace=True)"
   ]
  },
  {
   "cell_type": "code",
   "execution_count": null,
   "metadata": {
    "_uuid": "4d43dcb0f55cc8b5a9bf738cca129a3c9979c94b"
   },
   "outputs": [],
   "source": [
    "from sklearn.linear_model import Ridge\n",
    "\n",
    "model = Ridge()\n",
    "model.fit(x_train, y_train)"
   ]
  },
  {
   "cell_type": "code",
   "execution_count": null,
   "metadata": {
    "_uuid": "8dab4942194279dca4dc2159ea8a3f7d16cad5d1"
   },
   "outputs": [],
   "source": [
    "pred_train = pd.DataFrame(model.predict(x_train), x_train.index)\n",
    "pred_valid = pd.DataFrame(model.predict(x_valid), x_valid.index)"
   ]
  },
  {
   "cell_type": "code",
   "execution_count": null,
   "metadata": {
    "_uuid": "5a4005e11034096065a2e3c87904e6f0ef09c835"
   },
   "outputs": [],
   "source": [
    "from sklearn.metrics import mean_absolute_error\n",
    "\n",
    "train_error = mean_absolute_error(y_train, pred_train)\n",
    "valid_error = mean_absolute_error(y_valid, pred_valid)\n",
    "print(f'Train MAE: {train_error} \\nValid MAE: {valid_error}')"
   ]
  },
  {
   "cell_type": "markdown",
   "metadata": {
    "_uuid": "7f016685ae8fa98ca51c5f6a0b27b61eddbc229b"
   },
   "source": [
    "Очевидно, что значения target ограничены [0, 1], поэтому clip улучшает score"
   ]
  },
  {
   "cell_type": "code",
   "execution_count": null,
   "metadata": {
    "_uuid": "5a849ef97a8c3aaecbb69206cc4b6e041c422dcb"
   },
   "outputs": [],
   "source": [
    "train_error = mean_absolute_error(y_train, pred_train.clip(lower=0, upper=1))\n",
    "valid_error = mean_absolute_error(y_valid, pred_valid.clip(lower=0, upper=1))\n",
    "print(f'Train MAE: {train_error} \\nValid MAE: {valid_error}')"
   ]
  },
  {
   "cell_type": "code",
   "execution_count": null,
   "metadata": {
    "_uuid": "69b76acf79bcfb88570fdffcd4b7b710070da548"
   },
   "outputs": [],
   "source": [
    "model.intercept_"
   ]
  },
  {
   "cell_type": "code",
   "execution_count": null,
   "metadata": {
    "_uuid": "02bf932602e6fb05802a55b6a4b040e0a9f88bc2"
   },
   "outputs": [],
   "source": [
    "coefs = [(col, coef) for col, coef in zip(x_train.columns, model.coef_)]\n",
    "importance = sorted(importance, key=lambda tpl: tpl[1], reverse=True)\n",
    "df_importance = pd.DataFrame(importance, columns=['feature', 'importance'])"
   ]
  },
  {
   "cell_type": "markdown",
   "metadata": {
    "_uuid": "3a49485c796b39050b6ca6b87b4cc6a0b0d92562"
   },
   "source": [
    "Значения коэффициентов. Нужно помнить, что данные не нормировались, поэтому коэффициенты нельзя**** рассматривать как importance"
   ]
  },
  {
   "cell_type": "code",
   "execution_count": null,
   "metadata": {
    "_uuid": "2413d32b43a6db715eb31868fbf680d82be37b15"
   },
   "outputs": [],
   "source": [
    "df_importance.plot(kind='bar', x='feature', y='importance')"
   ]
  },
  {
   "cell_type": "markdown",
   "metadata": {
    "_uuid": "6b6420ec25ff9823bf06defadc7a6487bb1e9892"
   },
   "source": [
    "Абсолютные значения коэффициентов"
   ]
  },
  {
   "cell_type": "code",
   "execution_count": null,
   "metadata": {
    "_uuid": "8b9b4080d3fd41bfca027e58cdf49d8089e6f26f"
   },
   "outputs": [],
   "source": [
    "df_importance['abs_importance'] = np.abs(df_importance['importance'])\n",
    "df_importance.sort_values('abs_importance', ascending=False).plot(kind='bar', x='feature', y='abs_importance')"
   ]
  },
  {
   "cell_type": "markdown",
   "metadata": {
    "_uuid": "9744ca483dc7473eced7a9bc28c921f51c000bce"
   },
   "source": [
    "Predict Test"
   ]
  },
  {
   "cell_type": "code",
   "execution_count": null,
   "metadata": {
    "_uuid": "a21d779fcc869aadf7ddeedde66550c64dc56050"
   },
   "outputs": [],
   "source": [
    "x_test = df_test.drop(id_features + categorical_features, axis=1)\n",
    "x_test.fillna(0, inplace=True)"
   ]
  },
  {
   "cell_type": "code",
   "execution_count": null,
   "metadata": {
    "_uuid": "9f23da16fb8d1aa72205af6cd18a8c141110cb48"
   },
   "outputs": [],
   "source": [
    "pred_test = pd.DataFrame(model.predict(x_test), df_test.index)"
   ]
  },
  {
   "cell_type": "code",
   "execution_count": null,
   "metadata": {
    "_uuid": "2287a6390e4e67eb7c1ae8e06174dd423d3edbc8"
   },
   "outputs": [],
   "source": [
    "pred_test = pred_test.clip(lower=0, upper=1)"
   ]
  },
  {
   "cell_type": "code",
   "execution_count": null,
   "metadata": {
    "_uuid": "b0a4fce8130b25962d260edb919e1c32669a56bf"
   },
   "outputs": [],
   "source": [
    "pred_test"
   ]
  },
  {
   "cell_type": "code",
   "execution_count": null,
   "metadata": {
    "_uuid": "5801da92b426d4024a8787d200326089cd16c96b"
   },
   "outputs": [],
   "source": [
    "df_sub['winPlacePerc'] = pred_test[0]"
   ]
  },
  {
   "cell_type": "code",
   "execution_count": null,
   "metadata": {
    "_uuid": "dd15ec0609403b02755fb58bb2ff2b74c9e7790c"
   },
   "outputs": [],
   "source": [
    "df_sub.to_csv('lm_submission.csv', index=False)"
   ]
  },
  {
   "cell_type": "code",
   "execution_count": null,
   "metadata": {
    "_uuid": "417193393b9c9689383bbabcf65160d1b42fbb3f"
   },
   "outputs": [],
   "source": []
  }
 ],
 "metadata": {
  "kernelspec": {
   "display_name": "Python 3",
   "language": "python",
   "name": "python3"
  },
  "language_info": {
   "codemirror_mode": {
    "name": "ipython",
    "version": 3
   },
   "file_extension": ".py",
   "mimetype": "text/x-python",
   "name": "python",
   "nbconvert_exporter": "python",
   "pygments_lexer": "ipython3",
   "version": "3.6.3"
  }
 },
 "nbformat": 4,
 "nbformat_minor": 2
}
