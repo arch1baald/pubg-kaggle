{
 "cells": [
  {
   "cell_type": "code",
   "execution_count": 1,
   "metadata": {},
   "outputs": [],
   "source": [
    "import re\n",
    "import pickle\n",
    "from IPython.display import display\n",
    "\n",
    "import numpy as np\n",
    "import pandas as pd\n",
    "import matplotlib.pyplot as plt\n",
    "import seaborn as sns\n",
    "from sklearn.base import BaseEstimator, TransformerMixin\n",
    "from sklearn.compose import ColumnTransformer\n",
    "from sklearn.pipeline import FeatureUnion, Pipeline\n",
    "\n",
    "from utils import camelcase_to_underscore\n",
    "\n",
    "\n",
    "sns.set(style=\"white\", palette=\"muted\", color_codes=True)"
   ]
  },
  {
   "cell_type": "markdown",
   "metadata": {},
   "source": [
    "### Read Data"
   ]
  },
  {
   "cell_type": "code",
   "execution_count": 2,
   "metadata": {},
   "outputs": [
    {
     "data": {
      "text/html": [
       "<div>\n",
       "<style scoped>\n",
       "    .dataframe tbody tr th:only-of-type {\n",
       "        vertical-align: middle;\n",
       "    }\n",
       "\n",
       "    .dataframe tbody tr th {\n",
       "        vertical-align: top;\n",
       "    }\n",
       "\n",
       "    .dataframe thead th {\n",
       "        text-align: right;\n",
       "    }\n",
       "</style>\n",
       "<table border=\"1\" class=\"dataframe\">\n",
       "  <thead>\n",
       "    <tr style=\"text-align: right;\">\n",
       "      <th></th>\n",
       "      <th>id</th>\n",
       "      <th>group_id</th>\n",
       "      <th>match_id</th>\n",
       "      <th>assists</th>\n",
       "      <th>boosts</th>\n",
       "      <th>damage_dealt</th>\n",
       "      <th>dbn_os</th>\n",
       "      <th>headshot_kills</th>\n",
       "      <th>heals</th>\n",
       "      <th>kill_place</th>\n",
       "      <th>...</th>\n",
       "      <th>revives</th>\n",
       "      <th>ride_distance</th>\n",
       "      <th>road_kills</th>\n",
       "      <th>swim_distance</th>\n",
       "      <th>team_kills</th>\n",
       "      <th>vehicle_destroys</th>\n",
       "      <th>walk_distance</th>\n",
       "      <th>weapons_acquired</th>\n",
       "      <th>win_points</th>\n",
       "      <th>win_place_perc</th>\n",
       "    </tr>\n",
       "  </thead>\n",
       "  <tbody>\n",
       "    <tr>\n",
       "      <th>0</th>\n",
       "      <td>7f96b2f878858a</td>\n",
       "      <td>4d4b580de459be</td>\n",
       "      <td>a10357fd1a4a91</td>\n",
       "      <td>0</td>\n",
       "      <td>0</td>\n",
       "      <td>0.00</td>\n",
       "      <td>0</td>\n",
       "      <td>0</td>\n",
       "      <td>0</td>\n",
       "      <td>60</td>\n",
       "      <td>...</td>\n",
       "      <td>0</td>\n",
       "      <td>0.0000</td>\n",
       "      <td>0</td>\n",
       "      <td>0.00</td>\n",
       "      <td>0</td>\n",
       "      <td>0</td>\n",
       "      <td>244.80</td>\n",
       "      <td>1</td>\n",
       "      <td>1466</td>\n",
       "      <td>0.4444</td>\n",
       "    </tr>\n",
       "    <tr>\n",
       "      <th>1</th>\n",
       "      <td>eef90569b9d03c</td>\n",
       "      <td>684d5656442f9e</td>\n",
       "      <td>aeb375fc57110c</td>\n",
       "      <td>0</td>\n",
       "      <td>0</td>\n",
       "      <td>91.47</td>\n",
       "      <td>0</td>\n",
       "      <td>0</td>\n",
       "      <td>0</td>\n",
       "      <td>57</td>\n",
       "      <td>...</td>\n",
       "      <td>0</td>\n",
       "      <td>0.0045</td>\n",
       "      <td>0</td>\n",
       "      <td>11.04</td>\n",
       "      <td>0</td>\n",
       "      <td>0</td>\n",
       "      <td>1434.00</td>\n",
       "      <td>5</td>\n",
       "      <td>0</td>\n",
       "      <td>0.6400</td>\n",
       "    </tr>\n",
       "    <tr>\n",
       "      <th>2</th>\n",
       "      <td>1eaf90ac73de72</td>\n",
       "      <td>6a4a42c3245a74</td>\n",
       "      <td>110163d8bb94ae</td>\n",
       "      <td>1</td>\n",
       "      <td>0</td>\n",
       "      <td>68.00</td>\n",
       "      <td>0</td>\n",
       "      <td>0</td>\n",
       "      <td>0</td>\n",
       "      <td>47</td>\n",
       "      <td>...</td>\n",
       "      <td>0</td>\n",
       "      <td>0.0000</td>\n",
       "      <td>0</td>\n",
       "      <td>0.00</td>\n",
       "      <td>0</td>\n",
       "      <td>0</td>\n",
       "      <td>161.80</td>\n",
       "      <td>2</td>\n",
       "      <td>0</td>\n",
       "      <td>0.7755</td>\n",
       "    </tr>\n",
       "    <tr>\n",
       "      <th>3</th>\n",
       "      <td>4616d365dd2853</td>\n",
       "      <td>a930a9c79cd721</td>\n",
       "      <td>f1f1f4ef412d7e</td>\n",
       "      <td>0</td>\n",
       "      <td>0</td>\n",
       "      <td>32.90</td>\n",
       "      <td>0</td>\n",
       "      <td>0</td>\n",
       "      <td>0</td>\n",
       "      <td>75</td>\n",
       "      <td>...</td>\n",
       "      <td>0</td>\n",
       "      <td>0.0000</td>\n",
       "      <td>0</td>\n",
       "      <td>0.00</td>\n",
       "      <td>0</td>\n",
       "      <td>0</td>\n",
       "      <td>202.70</td>\n",
       "      <td>3</td>\n",
       "      <td>0</td>\n",
       "      <td>0.1667</td>\n",
       "    </tr>\n",
       "    <tr>\n",
       "      <th>4</th>\n",
       "      <td>315c96c26c9aac</td>\n",
       "      <td>de04010b3458dd</td>\n",
       "      <td>6dc8ff871e21e6</td>\n",
       "      <td>0</td>\n",
       "      <td>0</td>\n",
       "      <td>100.00</td>\n",
       "      <td>0</td>\n",
       "      <td>0</td>\n",
       "      <td>0</td>\n",
       "      <td>45</td>\n",
       "      <td>...</td>\n",
       "      <td>0</td>\n",
       "      <td>0.0000</td>\n",
       "      <td>0</td>\n",
       "      <td>0.00</td>\n",
       "      <td>0</td>\n",
       "      <td>0</td>\n",
       "      <td>49.75</td>\n",
       "      <td>2</td>\n",
       "      <td>0</td>\n",
       "      <td>0.1875</td>\n",
       "    </tr>\n",
       "  </tbody>\n",
       "</table>\n",
       "<p>5 rows × 29 columns</p>\n",
       "</div>"
      ],
      "text/plain": [
       "               id        group_id        match_id  assists  boosts  \\\n",
       "0  7f96b2f878858a  4d4b580de459be  a10357fd1a4a91        0       0   \n",
       "1  eef90569b9d03c  684d5656442f9e  aeb375fc57110c        0       0   \n",
       "2  1eaf90ac73de72  6a4a42c3245a74  110163d8bb94ae        1       0   \n",
       "3  4616d365dd2853  a930a9c79cd721  f1f1f4ef412d7e        0       0   \n",
       "4  315c96c26c9aac  de04010b3458dd  6dc8ff871e21e6        0       0   \n",
       "\n",
       "   damage_dealt  dbn_os  headshot_kills  heals  kill_place       ...        \\\n",
       "0          0.00       0               0      0          60       ...         \n",
       "1         91.47       0               0      0          57       ...         \n",
       "2         68.00       0               0      0          47       ...         \n",
       "3         32.90       0               0      0          75       ...         \n",
       "4        100.00       0               0      0          45       ...         \n",
       "\n",
       "   revives  ride_distance  road_kills  swim_distance  team_kills  \\\n",
       "0        0         0.0000           0           0.00           0   \n",
       "1        0         0.0045           0          11.04           0   \n",
       "2        0         0.0000           0           0.00           0   \n",
       "3        0         0.0000           0           0.00           0   \n",
       "4        0         0.0000           0           0.00           0   \n",
       "\n",
       "  vehicle_destroys  walk_distance  weapons_acquired  win_points  \\\n",
       "0                0         244.80                 1        1466   \n",
       "1                0        1434.00                 5           0   \n",
       "2                0         161.80                 2           0   \n",
       "3                0         202.70                 3           0   \n",
       "4                0          49.75                 2           0   \n",
       "\n",
       "   win_place_perc  \n",
       "0          0.4444  \n",
       "1          0.6400  \n",
       "2          0.7755  \n",
       "3          0.1667  \n",
       "4          0.1875  \n",
       "\n",
       "[5 rows x 29 columns]"
      ]
     },
     "metadata": {},
     "output_type": "display_data"
    },
    {
     "data": {
      "text/plain": [
       "(10000, 29)"
      ]
     },
     "metadata": {},
     "output_type": "display_data"
    },
    {
     "data": {
      "text/plain": [
       "['id',\n",
       " 'group_id',\n",
       " 'match_id',\n",
       " 'assists',\n",
       " 'boosts',\n",
       " 'damage_dealt',\n",
       " 'dbn_os',\n",
       " 'headshot_kills',\n",
       " 'heals',\n",
       " 'kill_place',\n",
       " 'kill_points',\n",
       " 'kills',\n",
       " 'kill_streaks',\n",
       " 'longest_kill',\n",
       " 'match_duration',\n",
       " 'match_type',\n",
       " 'max_place',\n",
       " 'num_groups',\n",
       " 'rank_points',\n",
       " 'revives',\n",
       " 'ride_distance',\n",
       " 'road_kills',\n",
       " 'swim_distance',\n",
       " 'team_kills',\n",
       " 'vehicle_destroys',\n",
       " 'walk_distance',\n",
       " 'weapons_acquired',\n",
       " 'win_points',\n",
       " 'win_place_perc']"
      ]
     },
     "metadata": {},
     "output_type": "display_data"
    }
   ],
   "source": [
    "# Full\n",
    "# df = pd.read_csv('input/train_V2.csv')\n",
    "# Sample\n",
    "df = pd.read_csv('input/train_V2.csv', nrows=10000)\n",
    "df.columns = [camelcase_to_underscore(col) for col in df.columns]\n",
    "display(df.head(), df.shape, list(df.columns))"
   ]
  },
  {
   "cell_type": "markdown",
   "metadata": {},
   "source": [
    "### Drop NaN Target observations"
   ]
  },
  {
   "cell_type": "code",
   "execution_count": 3,
   "metadata": {},
   "outputs": [],
   "source": [
    "df.drop(df[df['win_place_perc'].isnull()].index, inplace=True)"
   ]
  },
  {
   "cell_type": "markdown",
   "metadata": {},
   "source": [
    "### Select Numerical Features"
   ]
  },
  {
   "cell_type": "code",
   "execution_count": 4,
   "metadata": {},
   "outputs": [],
   "source": [
    "id_features = ['id', 'group_id', 'match_id']\n",
    "categorical_features = ['match_type', ]\n",
    "target_feature = 'win_place_perc'\n",
    "base_features = [col for col in df.columns if col not in id_features + categorical_features + [target_feature]] "
   ]
  },
  {
   "cell_type": "markdown",
   "metadata": {},
   "source": [
    "### Count Unique Values"
   ]
  },
  {
   "cell_type": "code",
   "execution_count": 5,
   "metadata": {},
   "outputs": [
    {
     "data": {
      "text/plain": [
       "(9971, 9059, 15)"
      ]
     },
     "execution_count": 5,
     "metadata": {},
     "output_type": "execute_result"
    }
   ],
   "source": [
    "df['group_id'].nunique(), df['match_id'].nunique(), df['match_type'].nunique()"
   ]
  },
  {
   "cell_type": "markdown",
   "metadata": {},
   "source": [
    "### Explore Target"
   ]
  },
  {
   "cell_type": "code",
   "execution_count": 6,
   "metadata": {},
   "outputs": [
    {
     "data": {
      "text/plain": [
       "count    10000.000000\n",
       "mean         0.472508\n",
       "std          0.307031\n",
       "min          0.000000\n",
       "25%          0.200000\n",
       "50%          0.458300\n",
       "75%          0.740700\n",
       "max          1.000000\n",
       "Name: win_place_perc, dtype: float64"
      ]
     },
     "metadata": {},
     "output_type": "display_data"
    },
    {
     "name": "stderr",
     "output_type": "stream",
     "text": [
      "/Users/dmitrymikhailovich_/cnt/pubg-kaggle/.direnv/python-3.6.3/lib/python3.6/site-packages/scipy/stats/stats.py:1713: FutureWarning: Using a non-tuple sequence for multidimensional indexing is deprecated; use `arr[tuple(seq)]` instead of `arr[seq]`. In the future this will be interpreted as an array index, `arr[np.array(seq)]`, which will result either in an error or a different result.\n",
      "  return np.add.reduce(sorted[indexer] * weights, axis=axis) / sumval\n"
     ]
    },
    {
     "data": {
      "image/png": "[encoded data removed]",
      "text/plain": [
       "<Figure size 432x288 with 1 Axes>"
      ]
     },
     "metadata": {
      "needs_background": "light"
     },
     "output_type": "display_data"
    }
   ],
   "source": [
    "display(df[target_feature].describe())\n",
    "sns.distplot(df[target_feature])\n",
    "plt.show()"
   ]
  },
  {
   "cell_type": "code",
   "execution_count": 7,
   "metadata": {},
   "outputs": [],
   "source": [
    "# from features import GroupAggregatedFeatureGenerator, SimpleFeatureGenerator\n",
    "\n",
    "# simple_feature_generator = SimpleFeatureGenerator()\n",
    "# df_features = pd.concat([df, simple_feature_generator.fit_transform(df)], axis=1)\n",
    "\n",
    "# features = base_features + simple_feature_generator.get_feature_names()\n",
    "# df_features = pd.concat([df_features, GroupAggregatedFeatureGenerator(features).fit_transform(df_features)], axis=1)"
   ]
  },
  {
   "cell_type": "code",
   "execution_count": 8,
   "metadata": {},
   "outputs": [],
   "source": [
    "# from sklearn.linear_model import Ridge"
   ]
  },
  {
   "cell_type": "code",
   "execution_count": 9,
   "metadata": {},
   "outputs": [],
   "source": [
    "from features import FeatureGenerator\n",
    "\n",
    "feature_generator = FeatureGenerator(\n",
    "    id_columns=id_features, \n",
    "    numerical_columns=base_features, \n",
    "    categorical_columns=categorical_features,\n",
    "    target_column=target_feature,\n",
    ")\n",
    "df_features = feature_generator.fit_transform(df)"
   ]
  },
  {
   "cell_type": "code",
   "execution_count": 10,
   "metadata": {},
   "outputs": [],
   "source": [
    "from preprocessing import Preprocessor\n",
    "\n",
    "preprocessor = Preprocessor(\n",
    "    id_columns=id_features, \n",
    "    numerical_columns=base_features,\n",
    "    categorical_columns=categorical_features,\n",
    "    target_column=target_feature,\n",
    ")\n",
    "x = preprocessor.fit_transform(df_features)"
   ]
  },
  {
   "cell_type": "code",
   "execution_count": 13,
   "metadata": {},
   "outputs": [],
   "source": [
    "from pipelines import Pipeline\n",
    "\n",
    "pipeline = Pipeline(\n",
    "    id_columns=id_features, \n",
    "    numerical_columns=base_features,\n",
    "    categorical_columns=categorical_features,\n",
    "    target_column=target_feature,\n",
    ")\n",
    "x = pipeline.fit_transform(df)"
   ]
  },
  {
   "cell_type": "code",
   "execution_count": 14,
   "metadata": {},
   "outputs": [
    {
     "data": {
      "text/plain": [
       "2"
      ]
     },
     "execution_count": 14,
     "metadata": {},
     "output_type": "execute_result"
    }
   ],
   "source": [
    "from sklearn.model_selection import KFold\n",
    "kfold = KFold(n_splits = 2)\n",
    "kfold.get_n_splits(x)"
   ]
  },
  {
   "cell_type": "code",
   "execution_count": 21,
   "metadata": {},
   "outputs": [
    {
     "name": "stdout",
     "output_type": "stream",
     "text": [
      "{'train_score': 0.08029392399999999, 'valid_score': 0.091569395}\n",
      "{'train_score': 0.07907778, 'valid_score': 0.08701266700000002}\n"
     ]
    }
   ],
   "source": [
    "from pipelines import Pipeline\n",
    "from sklearn.linear_model import Ridge\n",
    "from sklearn.ensemble import RandomForestRegressor\n",
    "from sklearn.metrics import mean_absolute_error\n",
    "\n",
    "log = []\n",
    "for train_index, valid_index in kfold.split(df):\n",
    "    step = dict()\n",
    "    pipeline = Pipeline(\n",
    "        id_columns=id_features, \n",
    "        numerical_columns=base_features,\n",
    "        categorical_columns=categorical_features,\n",
    "        target_column=target_feature,\n",
    "    )\n",
    "    x_train = pipeline.fit_transform(df.loc[train_index, :])\n",
    "    y_train = df.loc[train_index, target_feature]\n",
    "    x_valid = pipeline.transform(df.loc[valid_index, :])\n",
    "    y_valid = df.loc[valid_index, target_feature]\n",
    "    \n",
    "#     model = Ridge(alpha=1)\n",
    "    model = RandomForestRegressor(\n",
    "        n_jobs=-1, \n",
    "        n_estimators=10, \n",
    "        criterion='mae', \n",
    "        max_depth=5,\n",
    "    )\n",
    "    model.fit(x_train, y_train)\n",
    "    step['train_score'] = mean_absolute_error(y_train, model.predict(x_train))\n",
    "    step['valid_score'] = mean_absolute_error(y_valid, model.predict(x_valid))\n",
    "    print(step)\n",
    "    log.append(step)"
   ]
  },
  {
   "cell_type": "code",
   "execution_count": 23,
   "metadata": {},
   "outputs": [
    {
     "data": {
      "image/png": "[encoded data removed]",
      "text/plain": [
       "<Figure size 432x288 with 1 Axes>"
      ]
     },
     "metadata": {
      "needs_background": "light"
     },
     "output_type": "display_data"
    }
   ],
   "source": [
    "df_scores = pd.DataFrame(log)\n",
    "df_scores.plot()\n",
    "plt.show()"
   ]
  },
  {
   "cell_type": "code",
   "execution_count": null,
   "metadata": {},
   "outputs": [],
   "source": []
  }
 ],
 "metadata": {
  "kernelspec": {
   "display_name": "Python 3",
   "language": "python",
   "name": "python3"
  },
  "language_info": {
   "codemirror_mode": {
    "name": "ipython",
    "version": 3
   },
   "file_extension": ".py",
   "mimetype": "text/x-python",
   "name": "python",
   "nbconvert_exporter": "python",
   "pygments_lexer": "ipython3",
   "version": "3.6.3"
  }
 },
 "nbformat": 4,
 "nbformat_minor": 2
}
